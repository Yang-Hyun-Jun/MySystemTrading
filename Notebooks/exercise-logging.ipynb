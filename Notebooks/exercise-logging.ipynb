{
 "cells": [
  {
   "cell_type": "markdown",
   "metadata": {},
   "source": [
    "### Logging 모듈의 구성\n",
    "\n",
    "- Logger 객체\n",
    "- 로그 출력을 담당하는 Handler\n",
    "- 출력 형태를 결정하는 Formatter\n",
    "\n",
    "1. Formatter 객체 생성 후 \n",
    "2. 출력을 위한 StreamHandler 객체 생성하여 formatter set \n",
    "3. Logger 객체 생성 하여 Handler 붙이기 (Handler는 여러개 붙일 수 있음)"
   ]
  },
  {
   "cell_type": "markdown",
   "metadata": {},
   "source": [
    "### Formatter의 어트리뷰트\n",
    "\n",
    "1. %(asctime)s : 사람이 읽을 수 있는, 로그가 생성된 시간\n",
    "2. %(levelname)s : 로깅 수준\n",
    "3. %(message)s : 로그 메시지 (foramtter에 설정된 for)\n",
    "4. %(name)s : 로거의 이름\n",
    "5. %(lineno)d: 로깅 호출이 일어난 코드 행 번호"
   ]
  },
  {
   "cell_type": "code",
   "execution_count": 32,
   "metadata": {},
   "outputs": [],
   "source": [
    "import logging\n",
    "\n",
    "# Formatter 객체 생성\n",
    "stream_formatter = logging.Formatter(fmt = \"%(asctime)s %(levelname)s - %(name)s - %(message)s\")\n",
    "# Handler 객체 생성 \n",
    "stream_handler = logging.StreamHandler()\n",
    "# Handler Level 설정\n",
    "stream_handler.setLevel(logging.INFO)\n",
    "# Handler formatter set\n",
    "stream_handler.setFormatter(stream_formatter)"
   ]
  },
  {
   "cell_type": "markdown",
   "metadata": {},
   "source": [
    "### Logging 사용법"
   ]
  },
  {
   "cell_type": "code",
   "execution_count": null,
   "metadata": {},
   "outputs": [],
   "source": [
    "from logging import warning\n",
    "\n",
    "log = logging.getLogger(\"Logman\")\n",
    "log.addHandler(stream_handler)\n",
    "log.setLevel(logging.DEBUG)\n",
    "\n",
    "# DEBUG보다 낮은 수준은 출력되지 않음\n",
    "log.debug(\"debug msg\")\n",
    "log.info(\"info msg\")\n",
    "log.warning(\"warning msg\")\n",
    "log.error(\"warning eroor\")"
   ]
  }
 ],
 "metadata": {
  "kernelspec": {
   "display_name": "Python 3.9.7 ('trader2')",
   "language": "python",
   "name": "python3"
  },
  "language_info": {
   "codemirror_mode": {
    "name": "ipython",
    "version": 3
   },
   "file_extension": ".py",
   "mimetype": "text/x-python",
   "name": "python",
   "nbconvert_exporter": "python",
   "pygments_lexer": "ipython3",
   "version": "3.9.7"
  },
  "orig_nbformat": 4,
  "vscode": {
   "interpreter": {
    "hash": "29be89daf952741e3c43ff064676e00aa8ac4c4ae84321cbe394240a42bc8712"
   }
  }
 },
 "nbformat": 4,
 "nbformat_minor": 2
}
