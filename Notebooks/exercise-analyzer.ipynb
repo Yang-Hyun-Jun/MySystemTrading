{
 "cells": [
  {
   "cell_type": "code",
   "execution_count": 1,
   "metadata": {},
   "outputs": [],
   "source": [
    "import os\n",
    "os.chdir('../')"
   ]
  },
  {
   "cell_type": "code",
   "execution_count": 2,
   "metadata": {},
   "outputs": [
    {
     "name": "stdout",
     "output_type": "stream",
     "text": [
      "현재 디렉토리  /Users/mac/Desktop/system\n"
     ]
    }
   ],
   "source": [
    "print(\"현재 디렉토리 \" , os.getcwd())"
   ]
  },
  {
   "cell_type": "code",
   "execution_count": 3,
   "metadata": {},
   "outputs": [],
   "source": [
    "from TS import Analyzer\n",
    "analyzer = Analyzer()"
   ]
  },
  {
   "cell_type": "code",
   "execution_count": 4,
   "metadata": {},
   "outputs": [
    {
     "name": "stderr",
     "output_type": "stream",
     "text": [
      "2022-09-16 16:13:35,536 WARNI             Analyzer - get_asset_info_func is None\n"
     ]
    }
   ],
   "source": [
    "# 초기화가 안된 상태에서 시작하면 \n",
    "analyzer.make_start_point()"
   ]
  },
  {
   "cell_type": "code",
   "execution_count": 5,
   "metadata": {},
   "outputs": [],
   "source": [
    "# asset info 변수로 함수의 반환값을 설정하기 위한 콜백\n",
    "def test_update_info_func():\n",
    "    asset_info = {\n",
    "        \"balance\": 50000,\n",
    "        \"asset\": {},\n",
    "        \"quote\": {\"KRW-BTC\": 26145000.0},\n",
    "        \"date_time\": \"2020-12-21T01:13:00\"}\n",
    "    return asset_info"
   ]
  },
  {
   "cell_type": "code",
   "execution_count": 6,
   "metadata": {},
   "outputs": [
    {
     "name": "stderr",
     "output_type": "stream",
     "text": [
      "2022-09-16 16:13:35,773 DEBUG             Analyzer - make score record new_info {'balance': 50000.0, 'asset': {}, 'quote': {'KRW-BTC': 26145000.0}, 'date_time': '2020-12-21T01:13:00'}\n",
      "2022-09-16 16:13:35,775  INFO             Analyzer - cumulative return 50000 -> 50000.0, 0\n"
     ]
    }
   ],
   "source": [
    "analyzer.initialize(test_update_info_func)\n",
    "analyzer.make_start_point()"
   ]
  },
  {
   "cell_type": "code",
   "execution_count": 7,
   "metadata": {},
   "outputs": [
    {
     "name": "stderr",
     "output_type": "stream",
     "text": [
      "2022-09-16 16:13:35,940 DEBUG             Analyzer - make score record new_info {'balance': 50000.0, 'asset': {}, 'quote': {'KRW-BTC': 26145000.0}, 'date_time': '2020-12-21T01:13:00'}\n",
      "2022-09-16 16:13:35,942  INFO             Analyzer - cumulative return 50000 -> 50000.0, 0\n"
     ]
    },
    {
     "data": {
      "text/plain": [
       "[{'market': 'KRW-BTC',\n",
       "  'date_time': '2020-12-21T01:13:00',\n",
       "  'opening_price': 26155000.0,\n",
       "  'high_price': 26158000.0,\n",
       "  'low_price': 26132000.0,\n",
       "  'closing_price': 26145000.0,\n",
       "  'acc_price': 116448937.40051,\n",
       "  'acc_volume': 4.45311465,\n",
       "  'kind': 0}]"
      ]
     },
     "execution_count": 7,
     "metadata": {},
     "output_type": "execute_result"
    }
   ],
   "source": [
    "# 종목 주가 및 거래량 데이터를 put_trading_info로 넣은 뒤 info_list 업데이트 확인\n",
    "\n",
    "info = {\n",
    "    \"market\": \"KRW-BTC\",\n",
    "    \"date_time\": \"2020-12-21T01:13:00\",\n",
    "    \"opening_price\": 26155000.0,\n",
    "    \"high_price\": 26158000.0,\n",
    "    \"low_price\": 26132000.0,\n",
    "    \"closing_price\": 26145000.0,\n",
    "    \"acc_price\": 116448937.40051,\n",
    "    \"acc_volume\": 4.45311465,\n",
    "}\n",
    "analyzer.put_trading_info(info)\n",
    "analyzer.info_list"
   ]
  },
  {
   "cell_type": "code",
   "execution_count": 8,
   "metadata": {},
   "outputs": [
    {
     "data": {
      "text/plain": [
       "[{'id': '1621767063.373',\n",
       "  'type': 'buy',\n",
       "  'price': 26145000.0,\n",
       "  'amount': 0.0004,\n",
       "  'date_time': '2020-12-21T01:13:00',\n",
       "  'kind': 1},\n",
       " {'id': '1621767063.373',\n",
       "  'type': 'cancel',\n",
       "  'price': 0,\n",
       "  'amount': 0,\n",
       "  'date_time': '2020-12-21T01:13:00',\n",
       "  'kind': 1}]"
      ]
     },
     "execution_count": 8,
     "metadata": {},
     "output_type": "execute_result"
    }
   ],
   "source": [
    "# 주문 요청을 put request로 넣은 뒤 requset_list 업데이트 확인 \n",
    "# 취소 주문은 지정가와 주문량이 0으로 바뀐 후 들어가는 것을 확인\n",
    "# 지정가 또는 주문량이 0이면 안 들어가는 것을 확인\n",
    "\n",
    "requests = [\n",
    "    {\n",
    "        \"id\": \"1621767063.373\",\n",
    "        \"type\": \"buy\",\n",
    "        \"price\": 26145000.0,\n",
    "        \"amount\": 0.0004,\n",
    "        \"date_time\": \"2020-12-21T01:13:00\",\n",
    "    },\n",
    "\n",
    "    {\n",
    "        \"id\": \"1621767063.373\",\n",
    "        \"type\": \"cancel\",\n",
    "        \"price\": 26145000.0,\n",
    "        \"amount\": 0.0004,\n",
    "        \"date_time\": \"2020-12-21T01:13:00\",\n",
    "    },\n",
    "\n",
    "    {\n",
    "        \"id\": \"1621767063.373\",\n",
    "        \"type\": \"buy\",\n",
    "        \"price\": 0,\n",
    "        \"amount\": 0.0004,\n",
    "        \"date_time\": \"2020-12-21T01:13:00\",\n",
    "    },\n",
    "\n",
    "]\n",
    "analyzer.put_requests(requests)\n",
    "analyzer.request_list"
   ]
  },
  {
   "cell_type": "code",
   "execution_count": 9,
   "metadata": {},
   "outputs": [
    {
     "name": "stderr",
     "output_type": "stream",
     "text": [
      "2022-09-16 16:13:37,750 DEBUG             Analyzer - make score record new_info {'balance': 39537.0, 'asset': {'KRW-BTC': (26145000.0, 0.0004)}, 'quote': {'KRW-BTC': 26132000.0}, 'date_time': '2020-12-21T01:14:00'}\n",
      "2022-09-16 16:13:37,753 DEBUG             Analyzer - KRW-BTC| yield record: -0.05 | buy avg: 26145000.0 \\| price: 26132000.0 | amount: 0.0004\n",
      "2022-09-16 16:13:37,754 DEBUG             Analyzer - price change ratio 26145000.0 -> 26132000.0, -0.05\n",
      "2022-09-16 16:13:37,755  INFO             Analyzer - cumulative return 50000 -> 49989.8, -0.02\n"
     ]
    }
   ],
   "source": [
    "# 주문 결과\n",
    "result = {\n",
    "    \"request\": {\n",
    "        \"id\": \"1621767063.373\",\n",
    "        \"type\": \"buy\",\n",
    "        \"price\": 26145000.0,\n",
    "        \"amount\": 0.0004,\n",
    "        \"date_time\": \"2020-12-21T01:13:00\",\n",
    "    },\n",
    "    \"type\": \"buy\",\n",
    "    \"price\": 26145000.0,\n",
    "    \"amount\": 0.0004,\n",
    "    \"msg\": \"success\",\n",
    "    \"balance\": 39537,\n",
    "    \"state\": \"done\",\n",
    "    \"date_time\": \"2020-12-21T01:13:00\",\n",
    "}\n",
    "\n",
    "# 매수 뒤 바뀐 자산 현황 콜백 함수\n",
    "def test_update_info_func():\n",
    "    asset_info = {\n",
    "        \"balance\": 39537,\n",
    "        \"asset\": {\"KRW-BTC\": (26145000.0, 0.0004)},\n",
    "        \"quote\": {\"KRW-BTC\": 26132000.0},\n",
    "        \"date_time\": \"2020-12-21T01:14:00\",\n",
    "    }\n",
    "    return asset_info\n",
    "\n",
    "analyzer.get_asset_info_func = test_update_info_func\n",
    "analyzer.put_result(result)"
   ]
  },
  {
   "cell_type": "code",
   "execution_count": 10,
   "metadata": {},
   "outputs": [
    {
     "data": {
      "text/plain": [
       "[{'request': {'id': '1621767063.373',\n",
       "   'type': 'buy',\n",
       "   'price': 26145000.0,\n",
       "   'amount': 0.0004,\n",
       "   'date_time': '2020-12-21T01:13:00'},\n",
       "  'type': 'buy',\n",
       "  'price': 26145000.0,\n",
       "  'amount': 0.0004,\n",
       "  'msg': 'success',\n",
       "  'balance': 39537,\n",
       "  'state': 'done',\n",
       "  'date_time': '2020-12-21T01:13:00',\n",
       "  'kind': 2}]"
      ]
     },
     "execution_count": 10,
     "metadata": {},
     "output_type": "execute_result"
    }
   ],
   "source": [
    "# 주문 결과를 put_result로 넣은 후 result_list 업데이트 확인\n",
    "\n",
    "analyzer.result_list"
   ]
  },
  {
   "cell_type": "code",
   "execution_count": 11,
   "metadata": {},
   "outputs": [
    {
     "data": {
      "text/plain": [
       "[{'balance': 50000.0,\n",
       "  'asset': {},\n",
       "  'quote': {'KRW-BTC': 26145000.0},\n",
       "  'date_time': '2020-12-21T01:13:00'},\n",
       " {'balance': 50000.0,\n",
       "  'asset': {},\n",
       "  'quote': {'KRW-BTC': 26145000.0},\n",
       "  'date_time': '2020-12-21T01:13:00'},\n",
       " {'balance': 39537.0,\n",
       "  'asset': {'KRW-BTC': (26145000.0, 0.0004)},\n",
       "  'quote': {'KRW-BTC': 26132000.0},\n",
       "  'date_time': '2020-12-21T01:14:00'}]"
      ]
     },
     "execution_count": 11,
     "metadata": {},
     "output_type": "execute_result"
    }
   ],
   "source": [
    "# 자산 현황 업데이트 확인\n",
    "\n",
    "analyzer.asset_info_list"
   ]
  }
 ],
 "metadata": {
  "kernelspec": {
   "display_name": "Python 3.9.7 ('trader2')",
   "language": "python",
   "name": "python3"
  },
  "language_info": {
   "codemirror_mode": {
    "name": "ipython",
    "version": 3
   },
   "file_extension": ".py",
   "mimetype": "text/x-python",
   "name": "python",
   "nbconvert_exporter": "python",
   "pygments_lexer": "ipython3",
   "version": "3.9.7"
  },
  "orig_nbformat": 4,
  "vscode": {
   "interpreter": {
    "hash": "29be89daf952741e3c43ff064676e00aa8ac4c4ae84321cbe394240a42bc8712"
   }
  }
 },
 "nbformat": 4,
 "nbformat_minor": 2
}
