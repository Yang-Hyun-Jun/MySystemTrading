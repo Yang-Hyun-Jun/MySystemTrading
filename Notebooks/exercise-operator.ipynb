{
 "cells": [
  {
   "cell_type": "code",
   "execution_count": 1,
   "metadata": {},
   "outputs": [],
   "source": [
    "import os\n",
    "os.chdir('../')"
   ]
  },
  {
   "cell_type": "code",
   "execution_count": 2,
   "metadata": {},
   "outputs": [
    {
     "name": "stdout",
     "output_type": "stream",
     "text": [
      "현재 디렉토리  /Users/mac/Desktop/system\n"
     ]
    }
   ],
   "source": [
    "print(\"현재 디렉토리 \" , os.getcwd())"
   ]
  },
  {
   "cell_type": "code",
   "execution_count": 3,
   "metadata": {},
   "outputs": [],
   "source": [
    "import time\n",
    "\n",
    "from TS import (\n",
    "    SimulationDataProvider,\n",
    "    SimulationOperator,\n",
    "    SimulationTrader,\n",
    "    StrategyBuyAndHold,\n",
    "    Analyzer,\n",
    "    LogManager,\n",
    ")"
   ]
  },
  {
   "cell_type": "code",
   "execution_count": 4,
   "metadata": {},
   "outputs": [
    {
     "name": "stderr",
     "output_type": "stream",
     "text": [
      "2022-09-19 12:09:41,868  INFO SimulationDataProvid - Data is updated from server | End: 2020-04-30T07:30:00, count: 10\n",
      "2022-09-19 12:09:41,946 DEBUG        VirtualMarket - Virtual Market is initialized end: 2020-04-30T07:30:00, count: 10\n"
     ]
    }
   ],
   "source": [
    "strategy = StrategyBuyAndHold()\n",
    "strategy.is_simulation = True\n",
    "end_str = \"2020-04-30T07:30:00\"\n",
    "count = 10\n",
    "budget = 100000\n",
    "interval = 0.1\n",
    "time_limit = 15\n",
    "\n",
    "data_provider = SimulationDataProvider()\n",
    "data_provider.initialize_simulation(end=end_str, count=count)\n",
    "\n",
    "trader = SimulationTrader()\n",
    "trader.initialize_simulation(end=end_str, count=count, budget=budget)\n",
    "\n",
    "analyzer = Analyzer()\n",
    "analyzer.is_simulation = True"
   ]
  },
  {
   "cell_type": "code",
   "execution_count": 5,
   "metadata": {},
   "outputs": [
    {
     "data": {
      "text/plain": [
       "'ready'"
      ]
     },
     "execution_count": 5,
     "metadata": {},
     "output_type": "execute_result"
    }
   ],
   "source": [
    "operator = SimulationOperator()\n",
    "operator.initialize(\n",
    "    data_provider,\n",
    "    strategy,\n",
    "    trader,\n",
    "    analyzer,\n",
    "    budget=budget\n",
    ")\n",
    "\n",
    "operator.state"
   ]
  },
  {
   "cell_type": "code",
   "execution_count": null,
   "metadata": {},
   "outputs": [
    {
     "name": "stderr",
     "output_type": "stream",
     "text": [
      "2022-09-19 12:09:42,189  INFO   SimulationOperator - ====== Start Operating ======\n",
      "2022-09-19 12:09:42,190 DEBUG             Analyzer - make score record new_info {'balance': 100000.0, 'asset': {}, 'quote': {'KRW-BTC': 10481000.0}, 'date_time': '2020-04-30T07:20:00'}\n",
      "2022-09-19 12:09:42,191  INFO             Analyzer - cumulative return 100000 -> 100000.0, 0\n",
      "2022-09-19 12:09:42,193 DEBUG      Operator-Worker - Worker[Operator-Worker: 123145531609088] WAIT =========\n",
      "2022-09-19 12:09:42,195 DEBUG      Operator-Worker - Worker[Operator-Worker:123145531609088] GO ----------\n"
     ]
    },
    {
     "data": {
      "text/plain": [
       "True"
      ]
     },
     "execution_count": 6,
     "metadata": {},
     "output_type": "execute_result"
    },
    {
     "name": "stderr",
     "output_type": "stream",
     "text": [
      "2022-09-19 12:09:42,197  INFO   SimulationOperator - ============ Simulation trading is started : 1\n",
      "2022-09-19 12:09:42,198  INFO SimulationDataProvid - [Simual DATA] | 2020-04-30T07:20:00\n",
      "2022-09-19 12:09:42,199 DEBUG             Analyzer - make score record new_info {'balance': 100000.0, 'asset': {}, 'quote': {'KRW-BTC': 10481000.0}, 'date_time': '2020-04-30T07:20:00'}\n",
      "2022-09-19 12:09:42,200  INFO             Analyzer - cumulative return 100000 -> 100000.0, 0\n"
     ]
    },
    {
     "name": "stderr",
     "output_type": "stream",
     "text": [
      "2022-09-19 12:09:42,202  INFO   StrategyBuyAndHold - [REQUEST] id: 1663556982.202 =====================\n",
      "2022-09-19 12:09:42,203  INFO   StrategyBuyAndHold - price : 10481000.0, amount: 0.0019\n",
      "2022-09-19 12:09:42,204  INFO   StrategyBuyAndHold - type: buy, total value: 19914\n",
      "2022-09-19 12:09:42,205  INFO   StrategyBuyAndHold - =====================================================\n",
      "2022-09-19 12:09:42,206 DEBUG        VirtualMarket - [Balance] from 100000\n",
      "2022-09-19 12:09:42,206 DEBUG        VirtualMarket - [Balance] - buy_asset_value 19913.9\n",
      "2022-09-19 12:09:42,207 DEBUG        VirtualMarket - [Balance] - commission 9.95695\n",
      "2022-09-19 12:09:42,207 DEBUG        VirtualMarket - [Balance] to 80076\n",
      "2022-09-19 12:09:42,208 DEBUG   SimulationOperator - send_request_callback is called\n",
      "2022-09-19 12:09:42,209  INFO   StrategyBuyAndHold - [RESULT] id: 1663556982.202 ================\n",
      "2022-09-19 12:09:42,210  INFO   StrategyBuyAndHold - type: buy, msg: success\n",
      "2022-09-19 12:09:42,210  INFO   StrategyBuyAndHold - price: 10481000.0, amount: 0.0019\n",
      "2022-09-19 12:09:42,211  INFO   StrategyBuyAndHold - total: 19913.9, balance: 80076\n",
      "2022-09-19 12:09:42,212  INFO   StrategyBuyAndHold - ================================================\n",
      "2022-09-19 12:09:42,212 DEBUG        VirtualMarket - asset item: KRW-BTC, item price: 10481000.0, amount: 0.0019\n",
      "2022-09-19 12:09:42,213 DEBUG             Analyzer - make score record new_info {'balance': 80076.0, 'asset': {'KRW-BTC': (10481000.0, 0.0019)}, 'quote': {'KRW-BTC': 10491000.0}, 'date_time': '2020-04-30T07:20:00'}\n",
      "2022-09-19 12:09:42,214 DEBUG             Analyzer - KRW-BTC| yield record: 0.095 | buy avg: 10481000.0 | price: 10491000.0 | amount: 0.0019\n",
      "2022-09-19 12:09:42,215 DEBUG             Analyzer - price change ratio 10481000.0 -> 10491000.0, 0.095\n",
      "2022-09-19 12:09:42,216  INFO             Analyzer - cumulative return 100000 -> 100008.9, 0.009\n",
      "2022-09-19 12:09:42,217 DEBUG   SimulationOperator - ============ Simulation trading is completed\n",
      "2022-09-19 12:09:42,218 DEBUG   SimulationOperator - start timer False | running | 123145531609088\n",
      "2022-09-19 12:09:42,220 DEBUG      Operator-Worker - Worker[Operator-Worker: 123145531609088] WAIT =========\n",
      "2022-09-19 12:09:42,320 DEBUG      Operator-Worker - Worker[Operator-Worker:123145531609088] GO ----------\n",
      "2022-09-19 12:09:42,321  INFO   SimulationOperator - ============ Simulation trading is started : 2\n",
      "2022-09-19 12:09:42,322  INFO SimulationDataProvid - [Simual DATA] | 2020-04-30T07:21:00\n",
      "2022-09-19 12:09:42,324 DEBUG        VirtualMarket - asset item: KRW-BTC, item price: 10481000.0, amount: 0.0019\n",
      "2022-09-19 12:09:42,326 DEBUG             Analyzer - make score record new_info {'balance': 80076.0, 'asset': {'KRW-BTC': (10481000.0, 0.0019)}, 'quote': {'KRW-BTC': 10491000.0}, 'date_time': '2020-04-30T07:21:00'}\n",
      "2022-09-19 12:09:42,327 DEBUG             Analyzer - KRW-BTC| yield record: 0.095 | buy avg: 10481000.0 | price: 10491000.0 | amount: 0.0019\n",
      "2022-09-19 12:09:42,327 DEBUG             Analyzer - price change ratio 10481000.0 -> 10491000.0, 0.095\n",
      "2022-09-19 12:09:42,328  INFO             Analyzer - cumulative return 100000 -> 100008.9, 0.009\n",
      "2022-09-19 12:09:42,329  INFO   StrategyBuyAndHold - [REQUEST] id: 1663556982.33 =====================\n",
      "2022-09-19 12:09:42,330  INFO   StrategyBuyAndHold - price : 10491000.0, amount: 0.0019\n",
      "2022-09-19 12:09:42,331  INFO   StrategyBuyAndHold - type: buy, total value: 19933\n",
      "2022-09-19 12:09:42,332  INFO   StrategyBuyAndHold - =====================================================\n",
      "2022-09-19 12:09:42,334 DEBUG        VirtualMarket - [Balance] from 80076\n",
      "2022-09-19 12:09:42,335 DEBUG        VirtualMarket - [Balance] - buy_asset_value 19932.9\n",
      "2022-09-19 12:09:42,335 DEBUG        VirtualMarket - [Balance] - commission 9.966450000000002\n",
      "2022-09-19 12:09:42,336 DEBUG        VirtualMarket - [Balance] to 60133\n",
      "2022-09-19 12:09:42,337 DEBUG   SimulationOperator - send_request_callback is called\n",
      "2022-09-19 12:09:42,337  INFO   StrategyBuyAndHold - [RESULT] id: 1663556982.33 ================\n",
      "2022-09-19 12:09:42,338  INFO   StrategyBuyAndHold - type: buy, msg: success\n",
      "2022-09-19 12:09:42,339  INFO   StrategyBuyAndHold - price: 10491000.0, amount: 0.0019\n",
      "2022-09-19 12:09:42,339  INFO   StrategyBuyAndHold - total: 19932.9, balance: 60133\n",
      "2022-09-19 12:09:42,340  INFO   StrategyBuyAndHold - ================================================\n",
      "2022-09-19 12:09:42,341 DEBUG        VirtualMarket - asset item: KRW-BTC, item price: 10486000, amount: 0.0038\n",
      "2022-09-19 12:09:42,341 DEBUG             Analyzer - make score record new_info {'balance': 60133.0, 'asset': {'KRW-BTC': (10486000, 0.0038)}, 'quote': {'KRW-BTC': 10487000.0}, 'date_time': '2020-04-30T07:21:00'}\n",
      "2022-09-19 12:09:42,342 DEBUG             Analyzer - KRW-BTC| yield record: 0.01 | buy avg: 10486000.0 | price: 10487000.0 | amount: 0.0038\n",
      "2022-09-19 12:09:42,343 DEBUG             Analyzer - price change ratio 10481000.0 -> 10487000.0, 0.057\n",
      "2022-09-19 12:09:42,344  INFO             Analyzer - cumulative return 100000 -> 99983.6, -0.016\n",
      "2022-09-19 12:09:42,345 DEBUG   SimulationOperator - ============ Simulation trading is completed\n",
      "2022-09-19 12:09:42,346 DEBUG   SimulationOperator - start timer False | running | 123145531609088\n",
      "2022-09-19 12:09:42,347 DEBUG      Operator-Worker - Worker[Operator-Worker: 123145531609088] WAIT =========\n",
      "2022-09-19 12:09:42,447 DEBUG      Operator-Worker - Worker[Operator-Worker:123145531609088] GO ----------\n",
      "2022-09-19 12:09:42,448  INFO   SimulationOperator - ============ Simulation trading is started : 3\n",
      "2022-09-19 12:09:42,449  INFO SimulationDataProvid - [Simual DATA] | 2020-04-30T07:22:00\n",
      "2022-09-19 12:09:42,451 DEBUG        VirtualMarket - asset item: KRW-BTC, item price: 10486000, amount: 0.0038\n",
      "2022-09-19 12:09:42,452 DEBUG             Analyzer - make score record new_info {'balance': 60133.0, 'asset': {'KRW-BTC': (10486000, 0.0038)}, 'quote': {'KRW-BTC': 10487000.0}, 'date_time': '2020-04-30T07:22:00'}\n",
      "2022-09-19 12:09:42,453 DEBUG             Analyzer - KRW-BTC| yield record: 0.01 | buy avg: 10486000.0 | price: 10487000.0 | amount: 0.0038\n",
      "2022-09-19 12:09:42,454 DEBUG             Analyzer - price change ratio 10481000.0 -> 10487000.0, 0.057\n",
      "2022-09-19 12:09:42,455  INFO             Analyzer - cumulative return 100000 -> 99983.6, -0.016\n",
      "2022-09-19 12:09:42,456  INFO   StrategyBuyAndHold - [REQUEST] id: 1663556982.456 =====================\n",
      "2022-09-19 12:09:42,457  INFO   StrategyBuyAndHold - price : 10487000.0, amount: 0.0019\n",
      "2022-09-19 12:09:42,458  INFO   StrategyBuyAndHold - type: buy, total value: 19925\n",
      "2022-09-19 12:09:42,459  INFO   StrategyBuyAndHold - =====================================================\n",
      "2022-09-19 12:09:42,460 DEBUG        VirtualMarket - [Balance] from 60133\n",
      "2022-09-19 12:09:42,462 DEBUG        VirtualMarket - [Balance] - buy_asset_value 19925.3\n",
      "2022-09-19 12:09:42,463 DEBUG        VirtualMarket - [Balance] - commission 9.96265\n",
      "2022-09-19 12:09:42,464 DEBUG        VirtualMarket - [Balance] to 40198\n",
      "2022-09-19 12:09:42,464 DEBUG   SimulationOperator - send_request_callback is called\n",
      "2022-09-19 12:09:42,465  INFO   StrategyBuyAndHold - [RESULT] id: 1663556982.456 ================\n",
      "2022-09-19 12:09:42,468  INFO   StrategyBuyAndHold - type: buy, msg: success\n",
      "2022-09-19 12:09:42,470  INFO   StrategyBuyAndHold - price: 10487000.0, amount: 0.0019\n",
      "2022-09-19 12:09:42,472  INFO   StrategyBuyAndHold - total: 19925.3, balance: 40198\n",
      "2022-09-19 12:09:42,472  INFO   StrategyBuyAndHold - ================================================\n",
      "2022-09-19 12:09:42,473 DEBUG        VirtualMarket - asset item: KRW-BTC, item price: 10486333, amount: 0.0057\n",
      "2022-09-19 12:09:42,474 DEBUG             Analyzer - make score record new_info {'balance': 40198.0, 'asset': {'KRW-BTC': (10486333, 0.0057)}, 'quote': {'KRW-BTC': 10491000.0}, 'date_time': '2020-04-30T07:22:00'}\n",
      "2022-09-19 12:09:42,475 DEBUG             Analyzer - KRW-BTC| yield record: 0.045 | buy avg: 10486333.0 | price: 10491000.0 | amount: 0.0057\n",
      "2022-09-19 12:09:42,476 DEBUG             Analyzer - price change ratio 10481000.0 -> 10491000.0, 0.095\n",
      "2022-09-19 12:09:42,477  INFO             Analyzer - cumulative return 100000 -> 99996.70000000001, -0.003\n",
      "2022-09-19 12:09:42,478 DEBUG   SimulationOperator - ============ Simulation trading is completed\n",
      "2022-09-19 12:09:42,480 DEBUG   SimulationOperator - start timer False | running | 123145531609088\n",
      "2022-09-19 12:09:42,481 DEBUG      Operator-Worker - Worker[Operator-Worker: 123145531609088] WAIT =========\n",
      "2022-09-19 12:09:42,583 DEBUG      Operator-Worker - Worker[Operator-Worker:123145531609088] GO ----------\n",
      "2022-09-19 12:09:42,584  INFO   SimulationOperator - ============ Simulation trading is started : 4\n",
      "2022-09-19 12:09:42,585  INFO SimulationDataProvid - [Simual DATA] | 2020-04-30T07:23:00\n",
      "2022-09-19 12:09:42,586 DEBUG        VirtualMarket - asset item: KRW-BTC, item price: 10486333, amount: 0.0057\n",
      "2022-09-19 12:09:42,588 DEBUG             Analyzer - make score record new_info {'balance': 40198.0, 'asset': {'KRW-BTC': (10486333, 0.0057)}, 'quote': {'KRW-BTC': 10491000.0}, 'date_time': '2020-04-30T07:23:00'}\n",
      "2022-09-19 12:09:42,589 DEBUG             Analyzer - KRW-BTC| yield record: 0.045 | buy avg: 10486333.0 | price: 10491000.0 | amount: 0.0057\n",
      "2022-09-19 12:09:42,590 DEBUG             Analyzer - price change ratio 10481000.0 -> 10491000.0, 0.095\n",
      "2022-09-19 12:09:42,591  INFO             Analyzer - cumulative return 100000 -> 99996.70000000001, -0.003\n",
      "2022-09-19 12:09:42,593  INFO   StrategyBuyAndHold - [REQUEST] id: 1663556982.593 =====================\n",
      "2022-09-19 12:09:42,593  INFO   StrategyBuyAndHold - price : 10491000.0, amount: 0.0019\n",
      "2022-09-19 12:09:42,594  INFO   StrategyBuyAndHold - type: buy, total value: 19933\n",
      "2022-09-19 12:09:42,595  INFO   StrategyBuyAndHold - =====================================================\n",
      "2022-09-19 12:09:42,596 DEBUG        VirtualMarket - [Balance] from 40198\n",
      "2022-09-19 12:09:42,597 DEBUG        VirtualMarket - [Balance] - buy_asset_value 19932.9\n",
      "2022-09-19 12:09:42,598 DEBUG        VirtualMarket - [Balance] - commission 9.966450000000002\n",
      "2022-09-19 12:09:42,599 DEBUG        VirtualMarket - [Balance] to 20255\n",
      "2022-09-19 12:09:42,600 DEBUG   SimulationOperator - send_request_callback is called\n",
      "2022-09-19 12:09:42,602  INFO   StrategyBuyAndHold - [RESULT] id: 1663556982.593 ================\n",
      "2022-09-19 12:09:42,603  INFO   StrategyBuyAndHold - type: buy, msg: success\n",
      "2022-09-19 12:09:42,604  INFO   StrategyBuyAndHold - price: 10491000.0, amount: 0.0019\n",
      "2022-09-19 12:09:42,605  INFO   StrategyBuyAndHold - total: 19932.9, balance: 20255\n",
      "2022-09-19 12:09:42,606  INFO   StrategyBuyAndHold - ================================================\n",
      "2022-09-19 12:09:42,606 DEBUG        VirtualMarket - asset item: KRW-BTC, item price: 10487500, amount: 0.0076\n",
      "2022-09-19 12:09:42,607 DEBUG             Analyzer - make score record new_info {'balance': 20255.0, 'asset': {'KRW-BTC': (10487500, 0.0076)}, 'quote': {'KRW-BTC': 10486000.0}, 'date_time': '2020-04-30T07:23:00'}\n",
      "2022-09-19 12:09:42,608 DEBUG             Analyzer - KRW-BTC| yield record: -0.014 | buy avg: 10487500.0 | price: 10486000.0 | amount: 0.0076\n",
      "2022-09-19 12:09:42,609 DEBUG             Analyzer - price change ratio 10481000.0 -> 10486000.0, 0.048\n",
      "2022-09-19 12:09:42,610  INFO             Analyzer - cumulative return 100000 -> 99948.6, -0.051\n",
      "2022-09-19 12:09:42,611 DEBUG   SimulationOperator - ============ Simulation trading is completed\n",
      "2022-09-19 12:09:42,612 DEBUG   SimulationOperator - start timer False | running | 123145531609088\n",
      "2022-09-19 12:09:42,613 DEBUG      Operator-Worker - Worker[Operator-Worker: 123145531609088] WAIT =========\n",
      "2022-09-19 12:09:42,716 DEBUG      Operator-Worker - Worker[Operator-Worker:123145531609088] GO ----------\n",
      "2022-09-19 12:09:42,717  INFO   SimulationOperator - ============ Simulation trading is started : 5\n",
      "2022-09-19 12:09:42,718  INFO SimulationDataProvid - [Simual DATA] | 2020-04-30T07:24:00\n",
      "2022-09-19 12:09:42,722 DEBUG        VirtualMarket - asset item: KRW-BTC, item price: 10487500, amount: 0.0076\n",
      "2022-09-19 12:09:42,723 DEBUG             Analyzer - make score record new_info {'balance': 20255.0, 'asset': {'KRW-BTC': (10487500, 0.0076)}, 'quote': {'KRW-BTC': 10486000.0}, 'date_time': '2020-04-30T07:24:00'}\n",
      "2022-09-19 12:09:42,724 DEBUG             Analyzer - KRW-BTC| yield record: -0.014 | buy avg: 10487500.0 | price: 10486000.0 | amount: 0.0076\n",
      "2022-09-19 12:09:42,725 DEBUG             Analyzer - price change ratio 10481000.0 -> 10486000.0, 0.048\n",
      "2022-09-19 12:09:42,726  INFO             Analyzer - cumulative return 100000 -> 99948.6, -0.051\n",
      "2022-09-19 12:09:42,728  INFO   StrategyBuyAndHold - [REQUEST] id: 1663556982.728 =====================\n",
      "2022-09-19 12:09:42,729  INFO   StrategyBuyAndHold - price : 10486000.0, amount: 0.0019\n",
      "2022-09-19 12:09:42,730  INFO   StrategyBuyAndHold - type: buy, total value: 19923\n",
      "2022-09-19 12:09:42,730  INFO   StrategyBuyAndHold - =====================================================\n",
      "2022-09-19 12:09:42,732 DEBUG        VirtualMarket - [Balance] from 20255\n",
      "2022-09-19 12:09:42,733 DEBUG        VirtualMarket - [Balance] - buy_asset_value 19923.4\n",
      "2022-09-19 12:09:42,734 DEBUG        VirtualMarket - [Balance] - commission 9.9617\n",
      "2022-09-19 12:09:42,735 DEBUG        VirtualMarket - [Balance] to 322\n",
      "2022-09-19 12:09:42,736 DEBUG   SimulationOperator - send_request_callback is called\n",
      "2022-09-19 12:09:42,737  INFO   StrategyBuyAndHold - [RESULT] id: 1663556982.728 ================\n",
      "2022-09-19 12:09:42,738  INFO   StrategyBuyAndHold - type: buy, msg: success\n",
      "2022-09-19 12:09:42,738  INFO   StrategyBuyAndHold - price: 10486000.0, amount: 0.0019\n",
      "2022-09-19 12:09:42,739  INFO   StrategyBuyAndHold - total: 19923.4, balance: 322\n",
      "2022-09-19 12:09:42,740  INFO   StrategyBuyAndHold - ================================================\n",
      "2022-09-19 12:09:42,741 DEBUG        VirtualMarket - asset item: KRW-BTC, item price: 10487200, amount: 0.0095\n",
      "2022-09-19 12:09:42,741 DEBUG             Analyzer - make score record new_info {'balance': 322.0, 'asset': {'KRW-BTC': (10487200, 0.0095)}, 'quote': {'KRW-BTC': 10455000.0}, 'date_time': '2020-04-30T07:24:00'}\n",
      "2022-09-19 12:09:42,742 DEBUG             Analyzer - KRW-BTC| yield record: -0.307 | buy avg: 10487200.0 | price: 10455000.0 | amount: 0.0095\n",
      "2022-09-19 12:09:42,743 DEBUG             Analyzer - price change ratio 10481000.0 -> 10455000.0, -0.248\n",
      "2022-09-19 12:09:42,744  INFO             Analyzer - cumulative return 100000 -> 99644.5, -0.355\n",
      "2022-09-19 12:09:42,745 DEBUG   SimulationOperator - ============ Simulation trading is completed\n",
      "2022-09-19 12:09:42,746 DEBUG   SimulationOperator - start timer False | running | 123145531609088\n",
      "2022-09-19 12:09:42,748 DEBUG      Operator-Worker - Worker[Operator-Worker: 123145531609088] WAIT =========\n",
      "2022-09-19 12:09:42,852 DEBUG      Operator-Worker - Worker[Operator-Worker:123145531609088] GO ----------\n",
      "2022-09-19 12:09:42,853  INFO   SimulationOperator - ============ Simulation trading is started : 6\n",
      "2022-09-19 12:09:42,854  INFO SimulationDataProvid - [Simual DATA] | 2020-04-30T07:25:00\n",
      "2022-09-19 12:09:42,855 DEBUG        VirtualMarket - asset item: KRW-BTC, item price: 10487200, amount: 0.0095\n",
      "2022-09-19 12:09:42,856 DEBUG             Analyzer - make score record new_info {'balance': 322.0, 'asset': {'KRW-BTC': (10487200, 0.0095)}, 'quote': {'KRW-BTC': 10455000.0}, 'date_time': '2020-04-30T07:25:00'}\n",
      "2022-09-19 12:09:42,858 DEBUG             Analyzer - KRW-BTC| yield record: -0.307 | buy avg: 10487200.0 | price: 10455000.0 | amount: 0.0095\n",
      "2022-09-19 12:09:42,859 DEBUG             Analyzer - price change ratio 10481000.0 -> 10455000.0, -0.248\n",
      "2022-09-19 12:09:42,860  INFO             Analyzer - cumulative return 100000 -> 99644.5, -0.355\n",
      "2022-09-19 12:09:42,861  INFO   StrategyBuyAndHold - Total value is smaller than min price\n",
      "2022-09-19 12:09:42,862  INFO        VirtualMarket - not matched\n",
      "2022-09-19 12:09:42,863 DEBUG   SimulationOperator - send_request_callback is called\n",
      "2022-09-19 12:09:42,864  INFO   StrategyBuyAndHold - [RESULT] id: 1663556982.863 ================\n",
      "2022-09-19 12:09:42,865  INFO   StrategyBuyAndHold - type: buy, msg: not matched\n",
      "2022-09-19 12:09:42,868  INFO   StrategyBuyAndHold - price: 0, amount: 0\n",
      "2022-09-19 12:09:42,870  INFO   StrategyBuyAndHold - total: 0.0, balance: 322\n",
      "2022-09-19 12:09:42,872  INFO   StrategyBuyAndHold - ================================================\n",
      "2022-09-19 12:09:42,873 DEBUG   SimulationOperator - ============ Simulation trading is completed\n",
      "2022-09-19 12:09:42,874 DEBUG   SimulationOperator - start timer False | running | 123145531609088\n",
      "2022-09-19 12:09:42,875 DEBUG      Operator-Worker - Worker[Operator-Worker: 123145531609088] WAIT =========\n",
      "2022-09-19 12:09:42,977 DEBUG      Operator-Worker - Worker[Operator-Worker:123145531609088] GO ----------\n",
      "2022-09-19 12:09:42,979  INFO   SimulationOperator - ============ Simulation trading is started : 7\n",
      "2022-09-19 12:09:42,981  INFO SimulationDataProvid - [Simual DATA] | 2020-04-30T07:26:00\n",
      "2022-09-19 12:09:42,982 DEBUG        VirtualMarket - asset item: KRW-BTC, item price: 10487200, amount: 0.0095\n",
      "2022-09-19 12:09:42,984 DEBUG             Analyzer - make score record new_info {'balance': 322.0, 'asset': {'KRW-BTC': (10487200, 0.0095)}, 'quote': {'KRW-BTC': 10451000.0}, 'date_time': '2020-04-30T07:26:00'}\n",
      "2022-09-19 12:09:42,985 DEBUG             Analyzer - KRW-BTC| yield record: -0.345 | buy avg: 10487200.0 | price: 10451000.0 | amount: 0.0095\n",
      "2022-09-19 12:09:42,987 DEBUG             Analyzer - price change ratio 10481000.0 -> 10451000.0, -0.286\n",
      "2022-09-19 12:09:42,991  INFO             Analyzer - cumulative return 100000 -> 99606.5, -0.394\n",
      "2022-09-19 12:09:43,027  INFO   StrategyBuyAndHold - Total value is smaller than min price\n",
      "2022-09-19 12:09:43,034  INFO        VirtualMarket - not matched\n",
      "2022-09-19 12:09:43,044 DEBUG   SimulationOperator - send_request_callback is called\n",
      "2022-09-19 12:09:43,068  INFO   StrategyBuyAndHold - [RESULT] id: 1663556983.034 ================\n",
      "2022-09-19 12:09:43,072  INFO   StrategyBuyAndHold - type: buy, msg: not matched\n",
      "2022-09-19 12:09:43,073  INFO   StrategyBuyAndHold - price: 0, amount: 0\n",
      "2022-09-19 12:09:43,074  INFO   StrategyBuyAndHold - total: 0.0, balance: 322\n",
      "2022-09-19 12:09:43,075  INFO   StrategyBuyAndHold - ================================================\n",
      "2022-09-19 12:09:43,077 DEBUG   SimulationOperator - ============ Simulation trading is completed\n",
      "2022-09-19 12:09:43,078 DEBUG   SimulationOperator - start timer False | running | 123145531609088\n",
      "2022-09-19 12:09:43,082 DEBUG      Operator-Worker - Worker[Operator-Worker: 123145531609088] WAIT =========\n",
      "2022-09-19 12:09:43,185 DEBUG      Operator-Worker - Worker[Operator-Worker:123145531609088] GO ----------\n",
      "2022-09-19 12:09:43,186  INFO   SimulationOperator - ============ Simulation trading is started : 8\n",
      "2022-09-19 12:09:43,187  INFO SimulationDataProvid - [Simual DATA] | 2020-04-30T07:27:00\n",
      "2022-09-19 12:09:43,188 DEBUG        VirtualMarket - asset item: KRW-BTC, item price: 10487200, amount: 0.0095\n",
      "2022-09-19 12:09:43,189 DEBUG             Analyzer - make score record new_info {'balance': 322.0, 'asset': {'KRW-BTC': (10487200, 0.0095)}, 'quote': {'KRW-BTC': 10448000.0}, 'date_time': '2020-04-30T07:27:00'}\n",
      "2022-09-19 12:09:43,190 DEBUG             Analyzer - KRW-BTC| yield record: -0.374 | buy avg: 10487200.0 | price: 10448000.0 | amount: 0.0095\n",
      "2022-09-19 12:09:43,191 DEBUG             Analyzer - price change ratio 10481000.0 -> 10448000.0, -0.315\n",
      "2022-09-19 12:09:43,192  INFO             Analyzer - cumulative return 100000 -> 99578.0, -0.422\n",
      "2022-09-19 12:09:43,193  INFO   StrategyBuyAndHold - Total value is smaller than min price\n",
      "2022-09-19 12:09:43,194  INFO        VirtualMarket - not matched\n",
      "2022-09-19 12:09:43,195 DEBUG   SimulationOperator - send_request_callback is called\n",
      "2022-09-19 12:09:43,196  INFO   StrategyBuyAndHold - [RESULT] id: 1663556983.194 ================\n",
      "2022-09-19 12:09:43,197  INFO   StrategyBuyAndHold - type: buy, msg: not matched\n",
      "2022-09-19 12:09:43,198  INFO   StrategyBuyAndHold - price: 0, amount: 0\n",
      "2022-09-19 12:09:43,198  INFO   StrategyBuyAndHold - total: 0.0, balance: 322\n",
      "2022-09-19 12:09:43,199  INFO   StrategyBuyAndHold - ================================================\n",
      "2022-09-19 12:09:43,201 DEBUG   SimulationOperator - ============ Simulation trading is completed\n",
      "2022-09-19 12:09:43,202 DEBUG   SimulationOperator - start timer False | running | 123145531609088\n",
      "2022-09-19 12:09:43,203 DEBUG      Operator-Worker - Worker[Operator-Worker: 123145531609088] WAIT =========\n",
      "2022-09-19 12:09:43,305 DEBUG      Operator-Worker - Worker[Operator-Worker:123145531609088] GO ----------\n",
      "2022-09-19 12:09:43,306  INFO   SimulationOperator - ============ Simulation trading is started : 9\n",
      "2022-09-19 12:09:43,307  INFO SimulationDataProvid - [Simual DATA] | 2020-04-30T07:28:00\n",
      "2022-09-19 12:09:43,308 DEBUG        VirtualMarket - asset item: KRW-BTC, item price: 10487200, amount: 0.0095\n",
      "2022-09-19 12:09:43,308 DEBUG             Analyzer - make score record new_info {'balance': 322.0, 'asset': {'KRW-BTC': (10487200, 0.0095)}, 'quote': {'KRW-BTC': 10421000.0}, 'date_time': '2020-04-30T07:28:00'}\n",
      "2022-09-19 12:09:43,310 DEBUG             Analyzer - KRW-BTC| yield record: -0.631 | buy avg: 10487200.0 | price: 10421000.0 | amount: 0.0095\n",
      "2022-09-19 12:09:43,310 DEBUG             Analyzer - price change ratio 10481000.0 -> 10421000.0, -0.572\n",
      "2022-09-19 12:09:43,312  INFO             Analyzer - cumulative return 100000 -> 99321.5, -0.678\n",
      "2022-09-19 12:09:43,313  INFO   StrategyBuyAndHold - Total value is smaller than min price\n",
      "2022-09-19 12:09:43,314 DEBUG   SimulationOperator - send_request_callback is called\n",
      "2022-09-19 12:09:43,315  INFO SimulationDataProvid - [Simual DATA] | 2020-04-30T07:29:00\n",
      "2022-09-19 12:09:43,319 DEBUG        VirtualMarket - asset item: KRW-BTC, item price: 10487200, amount: 0.0095\n",
      "2022-09-19 12:09:43,320 DEBUG             Analyzer - make score record new_info {'balance': 322.0, 'asset': {'KRW-BTC': (10487200, 0.0095)}, 'quote': {'KRW-BTC': 10428000.0}, 'date_time': '2020-04-30T07:29:00'}\n",
      "2022-09-19 12:09:43,321 DEBUG             Analyzer - KRW-BTC| yield record: -0.564 | buy avg: 10487200.0 | price: 10428000.0 | amount: 0.0095\n",
      "2022-09-19 12:09:43,322 DEBUG             Analyzer - price change ratio 10481000.0 -> 10428000.0, -0.506\n",
      "2022-09-19 12:09:43,323  INFO             Analyzer - cumulative return 100000 -> 99388.0, -0.612\n",
      "2022-09-19 12:09:43,324 DEBUG   SimulationOperator - ============ Simulation trading is completed\n",
      "2022-09-19 12:09:43,325 DEBUG   SimulationOperator - start timer False | simulation_terminated | 123145531609088\n",
      "2022-09-19 12:09:43,326 DEBUG      Operator-Worker - Worker[Operator-Worker: 123145531609088] WAIT =========\n"
     ]
    }
   ],
   "source": [
    "operator.set_interval(interval)\n",
    "operator.start()"
   ]
  },
  {
   "cell_type": "code",
   "execution_count": 7,
   "metadata": {},
   "outputs": [
    {
     "data": {
      "text/plain": [
       "'simulation_terminated'"
      ]
     },
     "execution_count": 7,
     "metadata": {},
     "output_type": "execute_result"
    }
   ],
   "source": [
    "operator.state"
   ]
  },
  {
   "cell_type": "code",
   "execution_count": 8,
   "metadata": {},
   "outputs": [
    {
     "data": {
      "text/plain": [
       "[{'request': {'id': '1663556982.202',\n",
       "   'type': 'buy',\n",
       "   'price': 10481000.0,\n",
       "   'amount': 0.0019,\n",
       "   'date_time': '2020-04-30T07:20:00'},\n",
       "  'type': 'buy',\n",
       "  'price': 10481000.0,\n",
       "  'amount': 0.0019,\n",
       "  'msg': 'success',\n",
       "  'balance': 80076,\n",
       "  'state': 'done',\n",
       "  'date_time': '2020-04-30T07:20:00',\n",
       "  'kind': 2},\n",
       " {'request': {'id': '1663556982.33',\n",
       "   'type': 'buy',\n",
       "   'price': 10491000.0,\n",
       "   'amount': 0.0019,\n",
       "   'date_time': '2020-04-30T07:21:00'},\n",
       "  'type': 'buy',\n",
       "  'price': 10491000.0,\n",
       "  'amount': 0.0019,\n",
       "  'msg': 'success',\n",
       "  'balance': 60133,\n",
       "  'state': 'done',\n",
       "  'date_time': '2020-04-30T07:21:00',\n",
       "  'kind': 2},\n",
       " {'request': {'id': '1663556982.456',\n",
       "   'type': 'buy',\n",
       "   'price': 10487000.0,\n",
       "   'amount': 0.0019,\n",
       "   'date_time': '2020-04-30T07:22:00'},\n",
       "  'type': 'buy',\n",
       "  'price': 10487000.0,\n",
       "  'amount': 0.0019,\n",
       "  'msg': 'success',\n",
       "  'balance': 40198,\n",
       "  'state': 'done',\n",
       "  'date_time': '2020-04-30T07:22:00',\n",
       "  'kind': 2},\n",
       " {'request': {'id': '1663556982.593',\n",
       "   'type': 'buy',\n",
       "   'price': 10491000.0,\n",
       "   'amount': 0.0019,\n",
       "   'date_time': '2020-04-30T07:23:00'},\n",
       "  'type': 'buy',\n",
       "  'price': 10491000.0,\n",
       "  'amount': 0.0019,\n",
       "  'msg': 'success',\n",
       "  'balance': 20255,\n",
       "  'state': 'done',\n",
       "  'date_time': '2020-04-30T07:23:00',\n",
       "  'kind': 2},\n",
       " {'request': {'id': '1663556982.728',\n",
       "   'type': 'buy',\n",
       "   'price': 10486000.0,\n",
       "   'amount': 0.0019,\n",
       "   'date_time': '2020-04-30T07:24:00'},\n",
       "  'type': 'buy',\n",
       "  'price': 10486000.0,\n",
       "  'amount': 0.0019,\n",
       "  'msg': 'success',\n",
       "  'balance': 322,\n",
       "  'state': 'done',\n",
       "  'date_time': '2020-04-30T07:24:00',\n",
       "  'kind': 2}]"
      ]
     },
     "execution_count": 8,
     "metadata": {},
     "output_type": "execute_result"
    }
   ],
   "source": [
    "operator.get_trading_results()"
   ]
  },
  {
   "cell_type": "code",
   "execution_count": 9,
   "metadata": {},
   "outputs": [
    {
     "name": "stderr",
     "output_type": "stream",
     "text": [
      "2022-09-19 12:10:08,133 DEBUG   SimulationOperator - already terminated return last report\n"
     ]
    }
   ],
   "source": [
    "def callback(return_report):\n",
    "    print(return_report)\n",
    "\n",
    "operator.get_score(callback)"
   ]
  }
 ],
 "metadata": {
  "kernelspec": {
   "display_name": "Python 3.9.7 ('trader2')",
   "language": "python",
   "name": "python3"
  },
  "language_info": {
   "codemirror_mode": {
    "name": "ipython",
    "version": 3
   },
   "file_extension": ".py",
   "mimetype": "text/x-python",
   "name": "python",
   "nbconvert_exporter": "python",
   "pygments_lexer": "ipython3",
   "version": "3.9.7"
  },
  "orig_nbformat": 4,
  "vscode": {
   "interpreter": {
    "hash": "29be89daf952741e3c43ff064676e00aa8ac4c4ae84321cbe394240a42bc8712"
   }
  }
 },
 "nbformat": 4,
 "nbformat_minor": 2
}
