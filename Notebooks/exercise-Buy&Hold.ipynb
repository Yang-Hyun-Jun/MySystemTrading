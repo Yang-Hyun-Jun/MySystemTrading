{
 "cells": [
  {
   "cell_type": "code",
   "execution_count": 1,
   "metadata": {},
   "outputs": [],
   "source": [
    "import os\n",
    "os.chdir('../')"
   ]
  },
  {
   "cell_type": "code",
   "execution_count": 2,
   "metadata": {},
   "outputs": [
    {
     "name": "stdout",
     "output_type": "stream",
     "text": [
      "현재 디렉토리  /Users/mac/Desktop/system\n"
     ]
    }
   ],
   "source": [
    "print(\"현재 디렉토리 \" , os.getcwd())"
   ]
  },
  {
   "cell_type": "code",
   "execution_count": 5,
   "metadata": {},
   "outputs": [],
   "source": [
    "from TS import StrategyBuyAndHold"
   ]
  },
  {
   "cell_type": "code",
   "execution_count": 6,
   "metadata": {},
   "outputs": [],
   "source": [
    "# 초기화 안해서 아무것도 반환 안됨\n",
    "\n",
    "strategy = StrategyBuyAndHold()\n",
    "strategy.get_request()"
   ]
  },
  {
   "cell_type": "code",
   "execution_count": 7,
   "metadata": {},
   "outputs": [],
   "source": [
    "# 초기화\n",
    "\n",
    "strategy.initialize(50000, 5000)"
   ]
  },
  {
   "cell_type": "code",
   "execution_count": 8,
   "metadata": {},
   "outputs": [],
   "source": [
    "# 거래 정보 입력\n",
    "\n",
    "strategy.update_trading_info(\n",
    "    {\n",
    "        \"market\": \"KRW-BTC\",\n",
    "        \"date_time\": \"2020-04-30T14:51:00\",\n",
    "        \"opening_price\": 11288000.0,\n",
    "        \"high_price\": 11304000.0,\n",
    "        \"low_price\": 11282000.0,\n",
    "        \"closing_price\": 11304000.0,\n",
    "        \"acc_price\": 587101574.8949,\n",
    "        \"acc_volume\": 51.97606868,\n",
    "    }\n",
    ")"
   ]
  },
  {
   "cell_type": "code",
   "execution_count": 9,
   "metadata": {},
   "outputs": [
    {
     "data": {
      "text/plain": [
       "[{'market': 'KRW-BTC',\n",
       "  'date_time': '2020-04-30T14:51:00',\n",
       "  'opening_price': 11288000.0,\n",
       "  'high_price': 11304000.0,\n",
       "  'low_price': 11282000.0,\n",
       "  'closing_price': 11304000.0,\n",
       "  'acc_price': 587101574.8949,\n",
       "  'acc_volume': 51.97606868}]"
      ]
     },
     "execution_count": 9,
     "metadata": {},
     "output_type": "execute_result"
    }
   ],
   "source": [
    "strategy.data"
   ]
  },
  {
   "cell_type": "code",
   "execution_count": 10,
   "metadata": {},
   "outputs": [
    {
     "name": "stderr",
     "output_type": "stream",
     "text": [
      "2022-09-12 21:24:29,104  INFO   StrategyBuyAndHold - [REQUEST] id: 1662985469.104 =====================\n",
      "2022-09-12 21:24:29,108  INFO   StrategyBuyAndHold - price : 11304000.0, amount: 0.0009\n",
      "2022-09-12 21:24:29,110  INFO   StrategyBuyAndHold - type: buy, total value: 10174\n",
      "2022-09-12 21:24:29,113  INFO   StrategyBuyAndHold - =====================================================\n"
     ]
    },
    {
     "data": {
      "text/plain": [
       "[{'id': '1662985469.104',\n",
       "  'type': 'buy',\n",
       "  'price': 11304000.0,\n",
       "  'amount': 0.0009,\n",
       "  'date_time': '2022-09-12T21:24:29'}]"
      ]
     },
     "execution_count": 10,
     "metadata": {},
     "output_type": "execute_result"
    }
   ],
   "source": [
    "request = strategy.get_request()\n",
    "request"
   ]
  },
  {
   "cell_type": "code",
   "execution_count": 11,
   "metadata": {},
   "outputs": [
    {
     "name": "stderr",
     "output_type": "stream",
     "text": [
      "2022-09-12 21:27:03,985  INFO   StrategyBuyAndHold - [RESULT] id: 1662985469.104 ================\n",
      "2022-09-12 21:27:03,987  INFO   StrategyBuyAndHold - type: buy, msg: success\n",
      "2022-09-12 21:27:03,989  INFO   StrategyBuyAndHold - price: 11304000.0, amount: 0.0009\n",
      "2022-09-12 21:27:03,990  INFO   StrategyBuyAndHold - total: 10173.6, balance: 39821\n",
      "2022-09-12 21:27:03,991  INFO   StrategyBuyAndHold - ================================================\n"
     ]
    },
    {
     "data": {
      "text/plain": [
       "39821"
      ]
     },
     "execution_count": 11,
     "metadata": {},
     "output_type": "execute_result"
    }
   ],
   "source": [
    "# 거래 결과 입력 - 정상 체결 됨\n",
    "strategy.update_result(\n",
    "    {\n",
    "        \"request\": {\n",
    "            \"id\": request[0][\"id\"],\n",
    "            \"type\": request[0][\"type\"],\n",
    "            \"price\": request[0][\"price\"],\n",
    "            \"amount\": request[0][\"amount\"],\n",
    "            \"date_time\": \"2020-04-30T14:51:00\",\n",
    "        },\n",
    "        \"type\": request[0][\"type\"],\n",
    "        \"price\": request[0][\"price\"],\n",
    "        \"amount\": request[0][\"amount\"],\n",
    "        \"msg\": \"success\",\n",
    "        \"balance\": 0,\n",
    "        \"state\": \"done\",\n",
    "        \"date_time\": \"2020-04-30T14:51:00\",\n",
    "    }\n",
    ")\n",
    "strategy.balance # 39821"
   ]
  }
 ],
 "metadata": {
  "kernelspec": {
   "display_name": "Python 3.9.7 ('trader2')",
   "language": "python",
   "name": "python3"
  },
  "language_info": {
   "codemirror_mode": {
    "name": "ipython",
    "version": 3
   },
   "file_extension": ".py",
   "mimetype": "text/x-python",
   "name": "python",
   "nbconvert_exporter": "python",
   "pygments_lexer": "ipython3",
   "version": "3.9.7"
  },
  "orig_nbformat": 4,
  "vscode": {
   "interpreter": {
    "hash": "29be89daf952741e3c43ff064676e00aa8ac4c4ae84321cbe394240a42bc8712"
   }
  }
 },
 "nbformat": 4,
 "nbformat_minor": 2
}
