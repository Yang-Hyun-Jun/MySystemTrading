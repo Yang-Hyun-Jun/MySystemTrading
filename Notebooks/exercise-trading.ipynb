{
 "cells": [
  {
   "cell_type": "code",
   "execution_count": 58,
   "metadata": {},
   "outputs": [],
   "source": [
    "import os\n",
    "os.chdir('../')"
   ]
  },
  {
   "cell_type": "code",
   "execution_count": 59,
   "metadata": {},
   "outputs": [
    {
     "name": "stdout",
     "output_type": "stream",
     "text": [
      "현재 디렉토리  /Users/mac/Desktop\n"
     ]
    }
   ],
   "source": [
    "print(\"현재 디렉토리 \" , os.getcwd())"
   ]
  },
  {
   "cell_type": "code",
   "execution_count": 60,
   "metadata": {},
   "outputs": [],
   "source": [
    "import time\n",
    "\n",
    "from TS import (\n",
    "    UpbitTrader,\n",
    "    UpbitDataProvider,\n",
    "    StrategyBuyAndHold,\n",
    "    Operator,\n",
    "    LogManager,\n",
    "    Analyzer,\n",
    ")"
   ]
  },
  {
   "cell_type": "code",
   "execution_count": 61,
   "metadata": {},
   "outputs": [
    {
     "name": "stdout",
     "output_type": "stream",
     "text": [
      "create output folder\n"
     ]
    },
    {
     "name": "stderr",
     "output_type": "stream",
     "text": [
      "2022-09-28 13:49:25,310 DEBUG   UpbitTrader-Worker - Worker[UpbitTrader-Worker: 123145881755648] WAIT =========\n"
     ]
    }
   ],
   "source": [
    "operator = Operator()\n",
    "\n",
    "operator.initialize(\n",
    "    UpbitDataProvider(),\n",
    "    StrategyBuyAndHold(),\n",
    "    UpbitTrader(),\n",
    "    Analyzer(),\n",
    "    budget=29975.73614204)"
   ]
  },
  {
   "cell_type": "markdown",
   "metadata": {},
   "source": [
    "### 체결 정보"
   ]
  },
  {
   "cell_type": "code",
   "execution_count": 69,
   "metadata": {},
   "outputs": [
    {
     "data": {
      "text/plain": [
       "{'uuid': '508d57ee-c08b-4c4f-bec3-cbe1e188b998',\n",
       " 'side': 'ask',\n",
       " 'ord_type': 'market',\n",
       " 'state': 'done',\n",
       " 'market': 'KRW-BTC',\n",
       " 'created_at': '2022-09-28T14:51:58+09:00',\n",
       " 'volume': '0.000367',\n",
       " 'remaining_volume': '0',\n",
       " 'reserved_fee': '0',\n",
       " 'remaining_fee': '0',\n",
       " 'paid_fee': '4.990833',\n",
       " 'locked': '0',\n",
       " 'executed_volume': '0.000367',\n",
       " 'trades_count': 1,\n",
       " 'trades': [{'market': 'KRW-BTC',\n",
       "   'uuid': '987d734c-a0d8-4043-b34f-55d36ba96bfb',\n",
       "   'price': '27198000',\n",
       "   'volume': '0.000367',\n",
       "   'funds': '9981.666',\n",
       "   'trend': 'down',\n",
       "   'created_at': '2022-09-28T14:51:57+09:00',\n",
       "   'side': 'ask'}]}"
      ]
     },
     "execution_count": 69,
     "metadata": {},
     "output_type": "execute_result"
    }
   ],
   "source": [
    "import jwt\n",
    "import hashlib\n",
    "import os\n",
    "import requests\n",
    "import uuid\n",
    "from urllib.parse import urlencode, unquote\n",
    "\n",
    "access_key = os.environ['UPBIT_OPEN_API_ACCESS_KEY']\n",
    "secret_key = os.environ['UPBIT_OPEN_API_SECRET_KEY']\n",
    "server_url = os.environ['UPBIT_OPEN_API_SERVER_URL']\n",
    "\n",
    "params = {'uuid': '508d57ee-c08b-4c4f-bec3-cbe1e188b998'}\n",
    "query_string = unquote(urlencode(params, doseq=True)).encode(\"utf-8\")\n",
    "\n",
    "m = hashlib.sha512()\n",
    "m.update(query_string)\n",
    "query_hash = m.hexdigest()\n",
    "\n",
    "payload = {\n",
    "    'access_key': operator.trader.ACCESS_KEY,\n",
    "    'nonce': str(uuid.uuid4()),\n",
    "    'query_hash': query_hash,\n",
    "    'query_hash_alg': 'SHA512'}\n",
    "\n",
    "jwt_token = jwt.encode(payload, operator.trader.SECRET_KEY)\n",
    "authorization = 'Bearer {}'.format(jwt_token)\n",
    "headers = {'Authorization': authorization}\n",
    "\n",
    "res = requests.get(server_url + '/v1/order', params=params, headers=headers)\n",
    "res.json()"
   ]
  },
  {
   "cell_type": "markdown",
   "metadata": {},
   "source": [
    "### 주문 가능 금액"
   ]
  },
  {
   "cell_type": "code",
   "execution_count": 12,
   "metadata": {},
   "outputs": [
    {
     "data": {
      "text/plain": [
       "[{'currency': 'KRW',\n",
       "  'balance': '29975.73614204',\n",
       "  'locked': '0',\n",
       "  'avg_buy_price': '0',\n",
       "  'avg_buy_price_modified': True,\n",
       "  'unit_currency': 'KRW'}]"
      ]
     },
     "execution_count": 12,
     "metadata": {},
     "output_type": "execute_result"
    }
   ],
   "source": [
    "import uuid\n",
    "import jwt\n",
    "import requests\n",
    "\n",
    "payload = {'access_key': operator.trader.ACCESS_KEY, 'nonce': str(uuid.uuid4())}\n",
    "jwt_token = jwt.encode(payload, operator.trader.SECRET_KEY)\n",
    "authorization = 'Bearer {}'.format(jwt_token)\n",
    "headers = {'Authorization': authorization}\n",
    "\n",
    "res = requests.get(operator.trader.SERVER_URL + '/v1/accounts', headers=headers)\n",
    "res.json()"
   ]
  },
  {
   "cell_type": "code",
   "execution_count": 34,
   "metadata": {},
   "outputs": [
    {
     "name": "stderr",
     "output_type": "stream",
     "text": [
      "2022-09-25 21:02:05,845 DEBUG          UpbitTrader - account info | banance: 29975.73614204 | {'BTC': (0, 0)} | {'BTC': 27410000.0}\n",
      "2022-09-25 21:02:05,846 DEBUG             Analyzer - make score record new_info {'balance': 29975.73614204, 'asset': {'BTC': (0, 0)}, 'quote': {'BTC': 27410000.0}, 'date_time': '2022-09-25T21:02:05'}\n",
      "2022-09-25 21:02:05,847 DEBUG             Analyzer - BTC| yield record: 0 | buy avg: 0.0 | price: 27410000.0 | amount: 0.0\n",
      "2022-09-25 21:02:05,849 DEBUG             Analyzer - price change ratio 27410000.0 -> 27410000.0, 0\n",
      "2022-09-25 21:02:05,850  INFO             Analyzer - cumulative return 29976 -> 29975.73614204, -0.001\n"
     ]
    }
   ],
   "source": [
    "operator.analyzer.make_start_point()"
   ]
  },
  {
   "cell_type": "code",
   "execution_count": 35,
   "metadata": {},
   "outputs": [
    {
     "name": "stderr",
     "output_type": "stream",
     "text": [
      "2022-09-25 21:02:07,080 DEBUG             Operator - ========= trading is started =========\n"
     ]
    },
    {
     "name": "stdout",
     "output_type": "stream",
     "text": [
      "끝이당\n"
     ]
    }
   ],
   "source": [
    "import threading\n",
    "\n",
    "thread = threading.Thread(target=operator._execute_trading)\n",
    "thread.start()\n",
    "thread.join()"
   ]
  },
  {
   "cell_type": "code",
   "execution_count": 6,
   "metadata": {},
   "outputs": [],
   "source": [
    "# call back\n",
    "\n",
    "def send_request_callback(result):\n",
    "    print(result)"
   ]
  },
  {
   "cell_type": "code",
   "execution_count": null,
   "metadata": {},
   "outputs": [],
   "source": [
    "\"\"\"\n",
    "한 번의 Execute trading 과정\n",
    "\"\"\"\n",
    "import hashlib\n",
    "import uuid\n",
    "import jwt\n",
    "\n",
    "operator.analyzer.make_start_point()\n",
    "\n",
    "# 종목 데이터 업데이트\n",
    "trading_info = operator.data_provider.get_info()\n",
    "operator.strategy.update_trading_info(trading_info)\n",
    "operator.analyzer.put_trading_info(trading_info)\n",
    "\n",
    "# 주문 생성\n",
    "target_request = operator.strategy.get_request()\n",
    "\n",
    "# 체결 결과 생성\n",
    "operator.trader.send_request(target_request, send_request_callback)\n",
    "\n",
    "print(\" ========= trading info ========= \")\n",
    "print(trading_info)\n",
    "print(\" ========= request info ========= \")\n",
    "print(target_request)\n",
    "print(\" ========= result info ========= \")"
   ]
  },
  {
   "cell_type": "code",
   "execution_count": 9,
   "metadata": {},
   "outputs": [
    {
     "data": {
      "text/plain": [
       "[{'market': 'KRW-BTC',\n",
       "  'date_time': '2022-09-25T11:52:00',\n",
       "  'opening_price': 27269000.0,\n",
       "  'high_price': 27277000.0,\n",
       "  'low_price': 27264000.0,\n",
       "  'closing_price': 27264000.0,\n",
       "  'acc_price': 32996676.46198,\n",
       "  'acc_volume': 1.21017616}]"
      ]
     },
     "execution_count": 9,
     "metadata": {},
     "output_type": "execute_result"
    }
   ],
   "source": [
    "operator.strategy.data"
   ]
  },
  {
   "cell_type": "code",
   "execution_count": 55,
   "metadata": {},
   "outputs": [
    {
     "data": {
      "text/plain": [
       "{'1664074365.563': {'uuid': '217ffe1b-9f54-4a03-9e13-62746f4d1be4',\n",
       "  'callback': <function __main__.send_request_callback(result)>,\n",
       "  'result': {'uuid': '217ffe1b-9f54-4a03-9e13-62746f4d1be4',\n",
       "   'state': 'requested',\n",
       "   'request': {'id': '1664074365.563',\n",
       "    'type': 'buy',\n",
       "    'price': 5997.853454152,\n",
       "    'amount': 0.0002,\n",
       "    'date_time': '2022-09-25T11:52:45'},\n",
       "   'type': 'buy',\n",
       "   'price': 5997.853454152,\n",
       "   'amount': 0.0002,\n",
       "   'msg': 'success'}}}"
      ]
     },
     "execution_count": 55,
     "metadata": {},
     "output_type": "execute_result"
    }
   ],
   "source": [
    "operator.trader.order_map"
   ]
  }
 ],
 "metadata": {
  "kernelspec": {
   "display_name": "Python 3.9.7 ('trader2')",
   "language": "python",
   "name": "python3"
  },
  "language_info": {
   "codemirror_mode": {
    "name": "ipython",
    "version": 3
   },
   "file_extension": ".py",
   "mimetype": "text/x-python",
   "name": "python",
   "nbconvert_exporter": "python",
   "pygments_lexer": "ipython3",
   "version": "3.9.7"
  },
  "orig_nbformat": 4,
  "vscode": {
   "interpreter": {
    "hash": "29be89daf952741e3c43ff064676e00aa8ac4c4ae84321cbe394240a42bc8712"
   }
  }
 },
 "nbformat": 4,
 "nbformat_minor": 2
}
